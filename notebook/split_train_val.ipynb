{
 "cells": [
  {
   "cell_type": "code",
   "execution_count": 18,
   "metadata": {},
   "outputs": [],
   "source": [
    "%matplotlib notebook\n",
    "\n",
    "import os\n",
    "import shutil\n",
    "import numpy as np\n",
    "from skimage import io\n",
    "from skimage.color import rgb2gray, gray2rgb"
   ]
  },
  {
   "cell_type": "code",
   "execution_count": 16,
   "metadata": {},
   "outputs": [],
   "source": [
    "base_dir = \"/home/saad/Personal/Misc/Neon/train_landscape_images\"\n",
    "train_dir = f\"{base_dir}/train\"\n",
    "val_dir = f\"{base_dir}/val\"\n",
    "test_dir = f\"{base_dir}/test\""
   ]
  },
  {
   "cell_type": "code",
   "execution_count": 7,
   "metadata": {},
   "outputs": [],
   "source": [
    "train_idx = np.load(\"/home/saad/Personal/Misc/Neon/image-colorization_d6a566/train_idx.npz\")[\"data\"]\n",
    "val_idx = np.load(\"/home/saad/Personal/Misc/Neon/image-colorization_d6a566/val_idx.npz\")[\"data\"]"
   ]
  },
  {
   "cell_type": "code",
   "execution_count": 13,
   "metadata": {},
   "outputs": [],
   "source": [
    "for file_ in train_idx:\n",
    "    src = os.path.join(base_dir, \"landscape_images\", os.path.basename(file_))\n",
    "    target = os.path.join(train_dir, os.path.basename(file_))\n",
    "    shutil.copy(src, target)"
   ]
  },
  {
   "cell_type": "code",
   "execution_count": 14,
   "metadata": {},
   "outputs": [],
   "source": [
    "for file_ in val_idx:\n",
    "    src = os.path.join(base_dir, \"landscape_images\", os.path.basename(file_))\n",
    "    target = os.path.join(val_dir, os.path.basename(file_))\n",
    "    shutil.copy(src, target)"
   ]
  },
  {
   "cell_type": "code",
   "execution_count": 20,
   "metadata": {},
   "outputs": [],
   "source": [
    "for file_ in val_idx:\n",
    "    src = os.path.join(val_dir, os.path.basename(file_))\n",
    "    target = os.path.join(test_dir, os.path.basename(file_))\n",
    "    \n",
    "    src_img = io.imread(src)\n",
    "    \n",
    "    if len(src_img.shape) < 3:\n",
    "        src_img = gray2rgb(src_img)\n",
    "        \n",
    "    src_img = rgb2gray(src_img)*255.0\n",
    "    src_img = src_img.astype(np.uint8)\n",
    "    \n",
    "    io.imsave(target, src_img)"
   ]
  },
  {
   "cell_type": "code",
   "execution_count": null,
   "metadata": {},
   "outputs": [],
   "source": []
  }
 ],
 "metadata": {
  "kernelspec": {
   "display_name": "py39",
   "language": "python",
   "name": "py39"
  },
  "language_info": {
   "codemirror_mode": {
    "name": "ipython",
    "version": 3
   },
   "file_extension": ".py",
   "mimetype": "text/x-python",
   "name": "python",
   "nbconvert_exporter": "python",
   "pygments_lexer": "ipython3",
   "version": "3.9.0"
  }
 },
 "nbformat": 4,
 "nbformat_minor": 4
}
